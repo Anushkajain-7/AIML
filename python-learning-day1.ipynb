{
 "cells": [
  {
   "cell_type": "markdown",
   "metadata": {},
   "source": [
    "### Artificial Intelligence (AI)\n",
    "**Definition:** Artificial Intelligence is the simulation of human intelligence in machines that are programmed to think and learn like humans. AI systems can perform tasks such as problem-solving, speech recognition, and decision-making.\n",
    "\n",
    "**Libraries:** \n",
    "- **TensorFlow:** An open-source library for numerical computation and machine learning.\n",
    "- **Keras:** A high-level neural networks API, running on top of TensorFlow.\n",
    "- **OpenAI Gym:** A toolkit for developing and comparing reinforcement learning algorithms.\n",
    "\n",
    "### Machine Learning (ML)\n",
    "**Definition:** Machine Learning is a subset of AI that involves the use of algorithms and statistical models to enable computers to improve their performance on a task through experience without being explicitly programmed.\n",
    "\n",
    "**Libraries:**\n",
    "- **scikit-learn:** A library for machine learning in Python, offering simple and efficient tools for data mining and analysis.\n",
    "- **XGBoost:** An optimized distributed gradient boosting library designed to be highly efficient, flexible, and portable.\n",
    "- **LightGBM:** A fast, distributed, high-performance gradient boosting framework based on decision tree algorithms.\n",
    "\n",
    "### Deep Learning\n",
    "**Definition:** Deep Learning is a subset of machine learning that uses neural networks with many layers (deep neural networks) to model complex patterns in data. It excels in tasks such as image and speech recognition.\n",
    "\n",
    "**Libraries:**\n",
    "- **TensorFlow:** Widely used for deep learning applications.\n",
    "- **PyTorch:** An open-source deep learning framework that provides a flexible and intuitive platform for developing neural networks.\n",
    "- **Caffe:** A deep learning framework made with expression, speed, and modularity in mind.\n",
    "\n",
    "### Python\n",
    "**Definition:** Python is a high-level, interpreted programming language known for its simplicity and readability. It is widely used in web development, data analysis, scientific computing, and artificial intelligence.\n",
    "\n",
    "**Libraries:**\n",
    "- **NumPy:** A library for numerical computing with powerful array objects.\n",
    "- **Pandas:** A library for data manipulation and analysis, providing data structures like DataFrames.\n",
    "- **Matplotlib:** A plotting library for creating static, animated, and interactive visualizations.\n",
    "- **SciPy:** A library used for scientific and technical computing, building on NumPy.\n",
    "- **Seaborn:** A statistical data visualization library based on Matplotlib."
   ]
  },
  {
   "cell_type": "markdown",
   "metadata": {},
   "source": [
    "### learning python"
   ]
  },
  {
   "cell_type": "markdown",
   "metadata": {},
   "source": [
    "Data Types"
   ]
  },
  {
   "cell_type": "code",
   "execution_count": 1,
   "metadata": {},
   "outputs": [
    {
     "name": "stdout",
     "output_type": "stream",
     "text": [
      "6\n",
      "<class 'int'>\n"
     ]
    }
   ],
   "source": [
    "# integer \n",
    "\n",
    "x = 6\n",
    "print(x)\n",
    "print(type(x))"
   ]
  },
  {
   "cell_type": "code",
   "execution_count": 2,
   "metadata": {},
   "outputs": [
    {
     "name": "stdout",
     "output_type": "stream",
     "text": [
      "3.14\n",
      "<class 'float'>\n"
     ]
    }
   ],
   "source": [
    "# float numbers\n",
    "\n",
    "y = 3.14\n",
    "print(y)\n",
    "print(type(y))"
   ]
  },
  {
   "cell_type": "code",
   "execution_count": 3,
   "metadata": {},
   "outputs": [
    {
     "name": "stdout",
     "output_type": "stream",
     "text": [
      "Learning Python\n",
      "<class 'str'>\n"
     ]
    }
   ],
   "source": [
    "name = \"Learning Python\"\n",
    "print(name)\n",
    "print(type(name))"
   ]
  },
  {
   "cell_type": "code",
   "execution_count": 5,
   "metadata": {},
   "outputs": [
    {
     "name": "stdout",
     "output_type": "stream",
     "text": [
      "True\n",
      "<class 'bool'>\n"
     ]
    }
   ],
   "source": [
    "daily_learning_python = True\n",
    "print(daily_learning_python)\n",
    "print(type(daily_learning_python))"
   ]
  },
  {
   "cell_type": "markdown",
   "metadata": {},
   "source": [
    "# String functions"
   ]
  },
  {
   "cell_type": "markdown",
   "metadata": {},
   "source": [
    "Any thing written in 'Single' or \"double\" quotes is a string. "
   ]
  },
  {
   "cell_type": "code",
   "execution_count": 7,
   "metadata": {},
   "outputs": [
    {
     "name": "stdout",
     "output_type": "stream",
     "text": [
      "Hellow, world!\n"
     ]
    }
   ],
   "source": [
    "# Capatalize() : returns first word of string in capital\n",
    "\n",
    "a = \"hellow, world!\"\n",
    "print(a.capitalize())"
   ]
  },
  {
   "cell_type": "code",
   "execution_count": 8,
   "metadata": {},
   "outputs": [
    {
     "name": "stdout",
     "output_type": "stream",
     "text": [
      "hellow\n"
     ]
    }
   ],
   "source": [
    "# lower(): coverts all characters to lowercase\n",
    "b = \"HELLOW\"\n",
    "print(b.lower())"
   ]
  },
  {
   "cell_type": "code",
   "execution_count": 9,
   "metadata": {},
   "outputs": [
    {
     "name": "stdout",
     "output_type": "stream",
     "text": [
      "HELLOW\n"
     ]
    }
   ],
   "source": [
    "# upper():  coverts all characters to uppercase\n",
    "c = \"hellow\"\n",
    "print(c.upper())"
   ]
  },
  {
   "cell_type": "code",
   "execution_count": 10,
   "metadata": {},
   "outputs": [
    {
     "name": "stdout",
     "output_type": "stream",
     "text": [
      "Hellow, World\n"
     ]
    }
   ],
   "source": [
    "# tile(): coverts first character of each word to capital\n",
    "d = \"hellow, world\"\n",
    "print(d.title())"
   ]
  },
  {
   "cell_type": "code",
   "execution_count": 11,
   "metadata": {},
   "outputs": [
    {
     "name": "stdout",
     "output_type": "stream",
     "text": [
      "14\n"
     ]
    }
   ],
   "source": [
    "#len(): returns the length of the string \n",
    "print(len(a))"
   ]
  },
  {
   "cell_type": "code",
   "execution_count": 13,
   "metadata": {},
   "outputs": [
    {
     "data": {
      "text/plain": [
       "'hellow'"
      ]
     },
     "execution_count": 13,
     "metadata": {},
     "output_type": "execute_result"
    }
   ],
   "source": [
    "# strip(): removes the whitespaces\n",
    "\"  hellow  \".strip()"
   ]
  },
  {
   "cell_type": "code",
   "execution_count": 15,
   "metadata": {},
   "outputs": [
    {
     "data": {
      "text/plain": [
       "'hellow  '"
      ]
     },
     "execution_count": 15,
     "metadata": {},
     "output_type": "execute_result"
    }
   ],
   "source": [
    "# lstrip(): removes the whitespaces from left side\n",
    "\"  hellow  \".lstrip()"
   ]
  },
  {
   "cell_type": "code",
   "execution_count": 16,
   "metadata": {},
   "outputs": [
    {
     "data": {
      "text/plain": [
       "'  hellow'"
      ]
     },
     "execution_count": 16,
     "metadata": {},
     "output_type": "execute_result"
    }
   ],
   "source": [
    "# rstrip(): removes the whitespaces from right side\n",
    "\"  hellow  \".rstrip()"
   ]
  },
  {
   "cell_type": "code",
   "execution_count": 17,
   "metadata": {},
   "outputs": [
    {
     "data": {
      "text/plain": [
       "True"
      ]
     },
     "execution_count": 17,
     "metadata": {},
     "output_type": "execute_result"
    }
   ],
   "source": [
    "# startswith(): check if the starts with the particular value and returns boolean value\n",
    "a.startswith(\"hel\")"
   ]
  },
  {
   "cell_type": "code",
   "execution_count": 18,
   "metadata": {},
   "outputs": [
    {
     "data": {
      "text/plain": [
       "True"
      ]
     },
     "execution_count": 18,
     "metadata": {},
     "output_type": "execute_result"
    }
   ],
   "source": [
    "# endswith(): check if the ends with the particular value and returns boolean value\n",
    "a.endswith(\"!\")"
   ]
  },
  {
   "cell_type": "code",
   "execution_count": 20,
   "metadata": {},
   "outputs": [
    {
     "name": "stdout",
     "output_type": "stream",
     "text": [
      "2\n",
      "13\n",
      "-1\n"
     ]
    }
   ],
   "source": [
    "# substring\n",
    "\n",
    "# find(): returns the index of first occurence of the substring , or -1 if not found \n",
    "\n",
    "print(a.find(\"l\"))\n",
    "print(a.find('!'))\n",
    "print(a.find('p'))"
   ]
  },
  {
   "cell_type": "code",
   "execution_count": 21,
   "metadata": {},
   "outputs": [
    {
     "data": {
      "text/plain": [
       "'hellow, Anushka!'"
      ]
     },
     "execution_count": 21,
     "metadata": {},
     "output_type": "execute_result"
    }
   ],
   "source": [
    "# replace(old, new): Replace the occurrence of the old string with new\n",
    "\n",
    "a.replace(\"world\", \"Anushka\")"
   ]
  },
  {
   "cell_type": "code",
   "execution_count": 24,
   "metadata": {},
   "outputs": [
    {
     "data": {
      "text/plain": [
       "['apple', 'banana', 'cherry']"
      ]
     },
     "execution_count": 24,
     "metadata": {},
     "output_type": "execute_result"
    }
   ],
   "source": [
    "# split(separator): splits the sting at each occurrence of the separator and returns a list of substrings.\n",
    "\n",
    "\"apple,banana,cherry\".split(\",\")"
   ]
  },
  {
   "cell_type": "code",
   "execution_count": 29,
   "metadata": {},
   "outputs": [
    {
     "name": "stdout",
     "output_type": "stream",
     "text": [
      "apple banana cherry\n",
      "apple, banana, cherry\n"
     ]
    }
   ],
   "source": [
    "# join(iterable): joins the item of iterable using the diclaimer\n",
    "\n",
    "fruits = ['apple', 'banana', 'cherry']\n",
    "print(' '.join(fruits))\n",
    "print(', '.join(fruits))"
   ]
  },
  {
   "cell_type": "code",
   "execution_count": 30,
   "metadata": {},
   "outputs": [
    {
     "data": {
      "text/plain": [
       "False"
      ]
     },
     "execution_count": 30,
     "metadata": {},
     "output_type": "execute_result"
    }
   ],
   "source": [
    "# isalpha(): checks wether all the character in string are alphabets and returns boolean value\n",
    "\n",
    "a.isalpha()"
   ]
  },
  {
   "cell_type": "code",
   "execution_count": 31,
   "metadata": {},
   "outputs": [
    {
     "data": {
      "text/plain": [
       "True"
      ]
     },
     "execution_count": 31,
     "metadata": {},
     "output_type": "execute_result"
    }
   ],
   "source": [
    "# islower(): checks wether all the character in string are lower and returns boolean value\n",
    "\n",
    "a.islower()"
   ]
  },
  {
   "cell_type": "code",
   "execution_count": 32,
   "metadata": {},
   "outputs": [
    {
     "data": {
      "text/plain": [
       "False"
      ]
     },
     "execution_count": 32,
     "metadata": {},
     "output_type": "execute_result"
    }
   ],
   "source": [
    "# isupper(): checks wether all the character in string are capital and returns boolean value\n",
    "\n",
    "a.isupper()"
   ]
  },
  {
   "cell_type": "code",
   "execution_count": 33,
   "metadata": {},
   "outputs": [
    {
     "data": {
      "text/plain": [
       "True"
      ]
     },
     "execution_count": 33,
     "metadata": {},
     "output_type": "execute_result"
    }
   ],
   "source": [
    "# isdigit(): checks wether all the character in string are digits and returns boolean value\n",
    "\n",
    "\"123445\".isdigit()"
   ]
  },
  {
   "cell_type": "code",
   "execution_count": 35,
   "metadata": {},
   "outputs": [
    {
     "data": {
      "text/plain": [
       "True"
      ]
     },
     "execution_count": 35,
     "metadata": {},
     "output_type": "execute_result"
    }
   ],
   "source": [
    "# isalnum()): checks wether all the character in string are alphanumeric (alphabets+digits) and returns boolean value\n",
    "\n",
    "\"abc123\".isalnum()"
   ]
  },
  {
   "cell_type": "code",
   "execution_count": 36,
   "metadata": {},
   "outputs": [
    {
     "data": {
      "text/plain": [
       "'Abc'"
      ]
     },
     "execution_count": 36,
     "metadata": {},
     "output_type": "execute_result"
    }
   ],
   "source": [
    "# swapcase(): converts upper case to lower or vice versa\n",
    "\n",
    "\"aBC\".swapcase()"
   ]
  },
  {
   "cell_type": "markdown",
   "metadata": {},
   "source": [
    "The format method in Python is used for formatting strings. \n",
    "It allows you to insert values into a string using placeholders defined by curly braces {}. \n",
    "The format method is versatile and supports various formatting options."
   ]
  },
  {
   "cell_type": "code",
   "execution_count": 39,
   "metadata": {},
   "outputs": [
    {
     "name": "stdout",
     "output_type": "stream",
     "text": [
      "My name is Anushka and I am 19 years old.\n"
     ]
    }
   ],
   "source": [
    "formatted_string = \"My name is {} and I am {} years old.\".format(\"Anushka\", 19)\n",
    "print(formatted_string)\n"
   ]
  },
  {
   "cell_type": "code",
   "execution_count": 37,
   "metadata": {},
   "outputs": [
    {
     "name": "stdout",
     "output_type": "stream",
     "text": [
      "My name is John and I am 30 years old. John is learning Python.\n"
     ]
    }
   ],
   "source": [
    "# Positional Arguments: you can specify the order of arguments by placing numbers inside the curly braces.\n",
    "\n",
    "name = \"John\"\n",
    "age = 30\n",
    "formatted_string = \"My name is {0} and I am {1} years old. {0} is learning Python.\".format(name, age)\n",
    "print(formatted_string)\n"
   ]
  },
  {
   "cell_type": "code",
   "execution_count": 38,
   "metadata": {},
   "outputs": [
    {
     "name": "stdout",
     "output_type": "stream",
     "text": [
      "My name is John and I am 30 years old.\n"
     ]
    }
   ],
   "source": [
    "# Keyword Arguments : You can also use keyword arguments to format strings.\n",
    "\n",
    "formatted_string = \"My name is {name} and I am {age} years old.\".format(name=\"John\", age=30)\n",
    "print(formatted_string)\n"
   ]
  },
  {
   "cell_type": "code",
   "execution_count": 41,
   "metadata": {},
   "outputs": [
    {
     "name": "stdout",
     "output_type": "stream",
     "text": [
      "3.14\n"
     ]
    }
   ],
   "source": [
    "formatted_number = \"{:.2f}\".format(3.14159)\n",
    "print(formatted_number)"
   ]
  },
  {
   "cell_type": "code",
   "execution_count": 42,
   "metadata": {},
   "outputs": [
    {
     "name": "stdout",
     "output_type": "stream",
     "text": [
      "3.142\n"
     ]
    }
   ],
   "source": [
    "formatted_number = \"{:.3f}\".format(3.14159)\n",
    "print(formatted_number)"
   ]
  },
  {
   "cell_type": "markdown",
   "metadata": {},
   "source": [
    "# List"
   ]
  },
  {
   "cell_type": "markdown",
   "metadata": {},
   "source": [
    "A list in Python is an ordered collection of items, which can be of different types, including integers, floats, strings, and even other lists. Lists are mutable, meaning their contents can be changed after creation."
   ]
  },
  {
   "cell_type": "code",
   "execution_count": 46,
   "metadata": {},
   "outputs": [
    {
     "name": "stdout",
     "output_type": "stream",
     "text": [
      "[1, 2, 'python', 3.14, '23.67']\n",
      "<class 'list'>\n"
     ]
    }
   ],
   "source": [
    "my_list = [1, 2, \"python\", 3.14, \"23.67\"]\n",
    "\n",
    "print(my_list)\n",
    "\n",
    "print(type(my_list))"
   ]
  },
  {
   "cell_type": "code",
   "execution_count": 47,
   "metadata": {},
   "outputs": [
    {
     "name": "stdout",
     "output_type": "stream",
     "text": [
      "[1, 2, 'python', 3.14, '23.67', 'hellow, world!']\n"
     ]
    }
   ],
   "source": [
    "# append(item): add the element at the end of list\n",
    "\n",
    "my_list.append(\"hellow, world!\")\n",
    "\n",
    "print(my_list)"
   ]
  },
  {
   "cell_type": "code",
   "execution_count": 49,
   "metadata": {},
   "outputs": [
    {
     "name": "stdout",
     "output_type": "stream",
     "text": [
      "[1, 2, 'python', 3.14, '23.67', 'hellow, world!', 41, 'Alice', 134, 41, 'Alice', 134]\n"
     ]
    }
   ],
   "source": [
    "# extend(iterable): adds all the items from the iterable to the end of the list\n",
    "\n",
    "my_list.extend([41, \"Alice\", 134])\n",
    "\n",
    "print(my_list)"
   ]
  },
  {
   "cell_type": "code",
   "execution_count": 61,
   "metadata": {},
   "outputs": [
    {
     "name": "stdout",
     "output_type": "stream",
     "text": [
      "[0, 0, 0, 0, 1, 2, 'python', 'JOHN', 'JOHN', 3.14, '23.67', 'python', 'hellow, world!', 41, 'Alice', 134, 41, 'Alice', 'coding', 134]\n"
     ]
    }
   ],
   "source": [
    "# insert(index, item) : insert the item at the given index\n",
    "\n",
    "my_list.insert(-8, \"python\")\n",
    "\n",
    "print(my_list)"
   ]
  },
  {
   "cell_type": "code",
   "execution_count": 63,
   "metadata": {},
   "outputs": [
    {
     "name": "stdout",
     "output_type": "stream",
     "text": [
      "[0, 0, 1, 2, 'python', 'JOHN', 'JOHN', 3.14, '23.67', 'python', 'hellow, world!', 41, 'Alice', 134, 41, 'Alice', 'coding', 134]\n"
     ]
    }
   ],
   "source": [
    "# remove(item): remove the first occurrence of the item from the list\n",
    "\n",
    "my_list.remove(0)\n",
    "\n",
    "print(my_list)"
   ]
  },
  {
   "cell_type": "code",
   "execution_count": 65,
   "metadata": {},
   "outputs": [
    {
     "name": "stdout",
     "output_type": "stream",
     "text": [
      "[0, 0, 2, 'python', 'JOHN', 'JOHN', 3.14, '23.67', 'python', 'hellow, world!', 41, 'Alice', 134, 41, 'Alice']\n"
     ]
    }
   ],
   "source": [
    "# pop(index): removes the element at the given index if no index given then it removes last element from the list\n",
    "\n",
    "my_list.pop()\n",
    "\n",
    "my_list.pop(2)\n",
    "\n",
    "print(my_list)\n"
   ]
  },
  {
   "cell_type": "code",
   "execution_count": 66,
   "metadata": {},
   "outputs": [
    {
     "data": {
      "text/plain": [
       "2"
      ]
     },
     "execution_count": 66,
     "metadata": {},
     "output_type": "execute_result"
    }
   ],
   "source": [
    "# count(item): counts the number of items occurrence in the list\n",
    "\n",
    "my_list.count(0)"
   ]
  },
  {
   "cell_type": "code",
   "execution_count": 67,
   "metadata": {},
   "outputs": [
    {
     "name": "stdout",
     "output_type": "stream",
     "text": [
      "[0, 1, 2, 3, 5, 7, 9]\n"
     ]
    }
   ],
   "source": [
    "# sort(): sort the list in ascending order\n",
    "\n",
    "list = [5, 7,3, 2, 9, 0, 1]\n",
    "\n",
    "list.sort()\n",
    "\n",
    "print(list)"
   ]
  },
  {
   "cell_type": "code",
   "execution_count": 68,
   "metadata": {},
   "outputs": [
    {
     "name": "stdout",
     "output_type": "stream",
     "text": [
      "[9, 7, 5, 3, 2, 1, 0]\n"
     ]
    }
   ],
   "source": [
    "# for descending order \n",
    "\n",
    "list.sort(reverse=True)\n",
    "\n",
    "print(list)"
   ]
  }
 ],
 "metadata": {
  "kernelspec": {
   "display_name": "base",
   "language": "python",
   "name": "python3"
  },
  "language_info": {
   "codemirror_mode": {
    "name": "ipython",
    "version": 3
   },
   "file_extension": ".py",
   "mimetype": "text/x-python",
   "name": "python",
   "nbconvert_exporter": "python",
   "pygments_lexer": "ipython3",
   "version": "3.12.3"
  }
 },
 "nbformat": 4,
 "nbformat_minor": 2
}
